{
 "cells": [
  {
   "cell_type": "code",
   "execution_count": null,
   "metadata": {},
   "outputs": [],
   "source": [
    "from sympy import diff, symbols, Eq, S, solve, solve_poly_inequality, Poly,plot\n",
    "\n",
    "x = symbols('x')\n",
    "\n",
    "print(\"Введите функцию одной переменной. Используйте символ 'х'\", end=\"\")\n",
    "print()\n",
    "F=input()\n",
    "#F=-12*x**4-18-x**3+5*x**2+10*x\n",
    "\n",
    "def function_increase(func):\n",
    "   \n",
    "    res=solve_poly_inequality(Poly(diff(func),x), '>')\n",
    "\n",
    "    return res\n",
    "\n",
    "def function_decrease(func):\n",
    "   \n",
    "    \n",
    "    res=solve_poly_inequality(Poly(diff(func),x), '<')\n",
    "\n",
    "    return res\n",
    "\n",
    "def function_extrem(func):\n",
    "   \n",
    "    \n",
    "    res=solve(Poly(diff(func),x))\n",
    "\n",
    "    return res\n",
    "\n",
    "def function_radix(func):\n",
    "    res=solve(func)\n",
    "\n",
    "    return res\n",
    "\n",
    "def function_positive(func):\n",
    "   \n",
    "    \n",
    "    res=solve_poly_inequality(Poly(func,x), '>')\n",
    "\n",
    "    return res\n",
    "\n",
    "def function_negative(func):\n",
    "        \n",
    "    res=solve_poly_inequality(Poly(func,x), '<')\n",
    "\n",
    "    return res    \n"
   ]
  },
  {
   "cell_type": "code",
   "execution_count": null,
   "metadata": {},
   "outputs": [],
   "source": [
    "print(\"Корни функции: \", function_radix(F))\n",
    "print()"
   ]
  },
  {
   "cell_type": "code",
   "execution_count": null,
   "metadata": {},
   "outputs": [],
   "source": [
    "print(\"Промежутки возрастания функции: \", function_increase(F))\n",
    "print()"
   ]
  },
  {
   "cell_type": "code",
   "execution_count": null,
   "metadata": {},
   "outputs": [],
   "source": [
    "print(\"Промежутки убывания функции: \", function_decrease(F))\n",
    "print()"
   ]
  },
  {
   "cell_type": "code",
   "execution_count": null,
   "metadata": {},
   "outputs": [],
   "source": [
    "print(\"Экстремумы функции: \", function_extrem(F))\n",
    "print()"
   ]
  },
  {
   "cell_type": "code",
   "execution_count": null,
   "metadata": {},
   "outputs": [],
   "source": [
    "print(\"Функция положительна на интервале: \", function_positive(F))\n",
    "print()"
   ]
  },
  {
   "cell_type": "code",
   "execution_count": null,
   "metadata": {},
   "outputs": [],
   "source": [
    "print(\"Функция отрицательна на интервале: \", function_negative(F))\n",
    "print()"
   ]
  },
  {
   "cell_type": "code",
   "execution_count": null,
   "metadata": {},
   "outputs": [],
   "source": [
    "plot(F)"
   ]
  }
 ],
 "metadata": {
  "kernelspec": {
   "display_name": "Python 3.10.8 64-bit (microsoft store)",
   "language": "python",
   "name": "python3"
  },
  "language_info": {
   "codemirror_mode": {
    "name": "ipython",
    "version": 3
   },
   "file_extension": ".py",
   "mimetype": "text/x-python",
   "name": "python",
   "nbconvert_exporter": "python",
   "pygments_lexer": "ipython3",
   "version": "3.10.8"
  },
  "orig_nbformat": 4,
  "vscode": {
   "interpreter": {
    "hash": "9186271770814b2311debec1c30b35d38ea473d65fdb86fdcb5c8a364e0deff1"
   }
  }
 },
 "nbformat": 4,
 "nbformat_minor": 2
}
